{
 "cells": [
  {
   "cell_type": "code",
   "execution_count": 1,
   "metadata": {},
   "outputs": [],
   "source": [
    "#data source https://www.kaggle.com/c/house-prices-advanced-regression-techniques/data\n",
    "TRAIN_DATA = \"../data/external/train.csv\"\n",
    "TEST_DATA = \"../data/external/test.csv\"\n",
    "\n",
    "#Target column in the data. \n",
    "TARGET = \"SalePrice\""
   ]
  },
  {
   "cell_type": "code",
   "execution_count": 2,
   "metadata": {},
   "outputs": [],
   "source": [
    "import numpy as np\n",
    "import pandas as pd\n",
    "import matplotlib.pyplot as plt\n",
    "import seaborn as sns\n",
    "\n",
    "#display all dataframe columns\n",
    "pd.options.display.max_columns = None"
   ]
  },
  {
   "cell_type": "code",
   "execution_count": 3,
   "metadata": {},
   "outputs": [],
   "source": [
    "train = pd.read_csv(TRAIN_DATA)"
   ]
  },
  {
   "cell_type": "code",
   "execution_count": 4,
   "metadata": {},
   "outputs": [],
   "source": [
    "train.drop('Id', axis=1, inplace=True)"
   ]
  },
  {
   "cell_type": "markdown",
   "metadata": {},
   "source": [
    "### Variable Types"
   ]
  },
  {
   "cell_type": "code",
   "execution_count": 5,
   "metadata": {},
   "outputs": [
    {
     "name": "stdout",
     "output_type": "stream",
     "text": [
      "4\n",
      "34\n",
      "45\n"
     ]
    }
   ],
   "source": [
    "tmp = train.dtypes\n",
    "vars_cat = tmp[tmp == 'O'].index.tolist()\n",
    "vars_num = [col for col in tmp.index if col not in vars_cat and col!= \"SalePrice\"]\n",
    "vars_num.remove('MoSold')\n",
    "vars_num.remove('MSSubClass')\n",
    "vars_cat.extend(['MoSold', 'MSSubClass'])\n",
    "\n",
    "vars_year = [var for var in train.columns if 'Yr' in var or 'Year' in var]\n",
    "#vars_num = [var for var in vars_num if var not in vars_year]\n",
    "\n",
    "print(len(vars_year))\n",
    "print(len(vars_num))\n",
    "print(len(vars_cat))"
   ]
  },
  {
   "cell_type": "markdown",
   "metadata": {},
   "source": [
    "### Year Variables"
   ]
  },
  {
   "cell_type": "code",
   "execution_count": 6,
   "metadata": {},
   "outputs": [],
   "source": [
    "# modify year variables.\n",
    "def modify_year_vars(df, var, var_ref=\"YrSold\"):\n",
    "    tmp = df[var_ref] - df[var] \n",
    "    return tmp"
   ]
  },
  {
   "cell_type": "code",
   "execution_count": 7,
   "metadata": {},
   "outputs": [
    {
     "data": {
      "text/html": [
       "<div>\n",
       "<style scoped>\n",
       "    .dataframe tbody tr th:only-of-type {\n",
       "        vertical-align: middle;\n",
       "    }\n",
       "\n",
       "    .dataframe tbody tr th {\n",
       "        vertical-align: top;\n",
       "    }\n",
       "\n",
       "    .dataframe thead th {\n",
       "        text-align: right;\n",
       "    }\n",
       "</style>\n",
       "<table border=\"1\" class=\"dataframe\">\n",
       "  <thead>\n",
       "    <tr style=\"text-align: right;\">\n",
       "      <th></th>\n",
       "      <th>YearBuilt</th>\n",
       "      <th>YearRemodAdd</th>\n",
       "      <th>GarageYrBlt</th>\n",
       "      <th>YrSold</th>\n",
       "    </tr>\n",
       "  </thead>\n",
       "  <tbody>\n",
       "    <tr>\n",
       "      <th>0</th>\n",
       "      <td>5</td>\n",
       "      <td>5</td>\n",
       "      <td>5.0</td>\n",
       "      <td>2008</td>\n",
       "    </tr>\n",
       "    <tr>\n",
       "      <th>1</th>\n",
       "      <td>31</td>\n",
       "      <td>31</td>\n",
       "      <td>31.0</td>\n",
       "      <td>2007</td>\n",
       "    </tr>\n",
       "    <tr>\n",
       "      <th>2</th>\n",
       "      <td>7</td>\n",
       "      <td>6</td>\n",
       "      <td>7.0</td>\n",
       "      <td>2008</td>\n",
       "    </tr>\n",
       "    <tr>\n",
       "      <th>3</th>\n",
       "      <td>91</td>\n",
       "      <td>36</td>\n",
       "      <td>8.0</td>\n",
       "      <td>2006</td>\n",
       "    </tr>\n",
       "    <tr>\n",
       "      <th>4</th>\n",
       "      <td>8</td>\n",
       "      <td>8</td>\n",
       "      <td>8.0</td>\n",
       "      <td>2008</td>\n",
       "    </tr>\n",
       "  </tbody>\n",
       "</table>\n",
       "</div>"
      ],
      "text/plain": [
       "   YearBuilt  YearRemodAdd  GarageYrBlt  YrSold\n",
       "0          5             5          5.0    2008\n",
       "1         31            31         31.0    2007\n",
       "2          7             6          7.0    2008\n",
       "3         91            36          8.0    2006\n",
       "4          8             8          8.0    2008"
      ]
     },
     "execution_count": 7,
     "metadata": {},
     "output_type": "execute_result"
    }
   ],
   "source": [
    "var_ref = 'YrSold'\n",
    "for var in vars_year:\n",
    "    if var != var_ref:\n",
    "        train[var] = modify_year_vars(train, var)\n",
    "        \n",
    "train[vars_year].head()"
   ]
  },
  {
   "cell_type": "markdown",
   "metadata": {},
   "source": [
    "### Numerical Variables"
   ]
  },
  {
   "cell_type": "code",
   "execution_count": 8,
   "metadata": {},
   "outputs": [
    {
     "data": {
      "text/plain": [
       "LotFrontage    0.177397\n",
       "GarageYrBlt    0.055479\n",
       "MasVnrArea     0.005479\n",
       "dtype: float64"
      ]
     },
     "execution_count": 8,
     "metadata": {},
     "output_type": "execute_result"
    }
   ],
   "source": [
    "#numerical varialbes with missing values\n",
    "# percentage of missing values\n",
    "tmp = train[vars_num].isnull().mean().sort_values(ascending=False)\n",
    "tmp[tmp>0]"
   ]
  },
  {
   "cell_type": "code",
   "execution_count": 9,
   "metadata": {},
   "outputs": [],
   "source": [
    "tmp = train[vars_num].isnull().mean().sort_values(ascending=False)\n",
    "vars_num_missing = tmp[tmp>0].index.tolist()\n",
    "\n",
    "for var in vars_num_missing:\n",
    "    tmp = np.where(train[var].isna(), 1, 0)\n",
    "    train[var + '_na'] = tmp\n",
    "    \n",
    "    mean = train[var].mean()\n",
    "    train[var] = train[var].fillna(mean)"
   ]
  },
  {
   "cell_type": "code",
   "execution_count": 10,
   "metadata": {},
   "outputs": [
    {
     "name": "stdout",
     "output_type": "stream",
     "text": [
      "LotFrontage_na 0.177397\n",
      "GarageYrBlt_na 0.055479\n",
      "MasVnrArea_na 0.005479\n"
     ]
    }
   ],
   "source": [
    "for var in vars_num_missing:\n",
    "    print(var + \"_na\", round(train[var + '_na'].mean(), 6))"
   ]
  },
  {
   "cell_type": "code",
   "execution_count": 11,
   "metadata": {},
   "outputs": [
    {
     "data": {
      "text/plain": [
       "Series([], dtype: float64)"
      ]
     },
     "execution_count": 11,
     "metadata": {},
     "output_type": "execute_result"
    }
   ],
   "source": [
    "#checking for missing values in numerical variables\n",
    "tmp = train[vars_num].isnull().mean()\n",
    "tmp[tmp>0]"
   ]
  },
  {
   "cell_type": "markdown",
   "metadata": {},
   "source": [
    "##### To do\n",
    "\n",
    "1. Cat - by \"Missing\"\n",
    "       - fill with most frequent (mode)\n",
    "2. Num - new feature indicating missing\n",
    "       - fill with mean\n",
    "3. Time - \n",
    "4. Num - transform\n",
    "5. Cat - map\n",
    "6. Rare labels\n",
    "7. Encode cat variables\n",
    "8. Target - log\n",
    "9. drop Id, year_sold\n",
    "10. Scale (min max)\n",
    "11. save"
   ]
  },
  {
   "cell_type": "code",
   "execution_count": null,
   "metadata": {},
   "outputs": [],
   "source": []
  }
 ],
 "metadata": {
  "kernelspec": {
   "display_name": "Python 3",
   "language": "python",
   "name": "python3"
  },
  "language_info": {
   "codemirror_mode": {
    "name": "ipython",
    "version": 3
   },
   "file_extension": ".py",
   "mimetype": "text/x-python",
   "name": "python",
   "nbconvert_exporter": "python",
   "pygments_lexer": "ipython3",
   "version": "3.8.5"
  }
 },
 "nbformat": 4,
 "nbformat_minor": 4
}
